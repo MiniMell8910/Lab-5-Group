{
 "cells": [
  {
   "cell_type": "code",
   "execution_count": 9,
   "metadata": {},
   "outputs": [
    {
     "name": "stdout",
     "output_type": "stream",
     "text": [
      "I'm here to help calculate what you need on your final to get your desired grade in a class.\n"
     ]
    },
    {
     "name": "stdin",
     "output_type": "stream",
     "text": [
      "What is your name? David\n",
      "What is your current grade in your class? 90\n",
      "What percent of your grade is your final worth? 10\n",
      "What is your desired final grade? 93\n"
     ]
    },
    {
     "name": "stdout",
     "output_type": "stream",
     "text": [
      "David, you're going to have to get a 120.0 on your final to get a  93 in your class.\n",
      "It's gonna take a miracle!\n"
     ]
    }
   ],
   "source": [
    "print(\"I'm here to help calculate what you need on your final to get your desired grade in a class.\")\n",
    "\n",
    "name = input(\"What is your name?\")\n",
    "currentgrade = int(input(\"What is your current grade in your class?\"))\n",
    "percent = float(input(\"What percent of your grade is your final worth?\"))/100\n",
    "desiredgrade = int(input(\"What is your desired final grade?\"))\n",
    "\n",
    "finalgrade = (desiredgrade - currentgrade*(1-percent))  / percent\n",
    "    \n",
    "print(name + \", you're going to have to get a\", finalgrade, \"on your final to get a \", desiredgrade, \"in your class.\")\n",
    "\n",
    "if finalgrade < 0:\n",
    "    print(\"You've got nothing to worry about.\")\n",
    "elif finalgrade < 70:\n",
    "    print(\"This'll be a breeze!\")\n",
    "elif finalgrade < 100:\n",
    "    print(\"Time to start studying!\")\n",
    "else:\n",
    "    print(\"It's gonna take a miracle!\")\n"
   ]
  },
  {
   "cell_type": "markdown",
   "metadata": {},
   "source": [
    "# \n",
    "This code was created by David Pratt (Some of the code from his original file was not transfering over to this repository)"
   ]
  }
 ],
 "metadata": {
  "kernelspec": {
   "display_name": "Python 3",
   "language": "python",
   "name": "python3"
  },
  "language_info": {
   "codemirror_mode": {
    "name": "ipython",
    "version": 3
   },
   "file_extension": ".py",
   "mimetype": "text/x-python",
   "name": "python",
   "nbconvert_exporter": "python",
   "pygments_lexer": "ipython3",
   "version": "3.8.3"
  }
 },
 "nbformat": 4,
 "nbformat_minor": 4
}
