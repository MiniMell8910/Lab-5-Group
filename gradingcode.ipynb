"execution_count": 4,
   "metadata": {},
   "outputs": [
    {
     "name": "stdout",
     "output_type": "stream",
     "text": [
      "I'm here to help calculate what you need on your final to get your desired grade in a class.\n"
     ]
    },
    {
     "name": "stdin",
     "output_type": "stream",
     "text": [
      "What is your name? David\n",
      "What is your current grade in your class? 100\n",
      "What percent of your grade is your final worth? Please input a decimal number. .10\n",
      "What is your desired final grade? 100\n"
     ]
    },
    {
     "name": "stdout",
     "output_type": "stream",
     "text": [
      "David , you're going to have to get a 100.0 on your final to get a  100 in your class.\n"
     ]
    }
   ],
   "source": [
    "print(\"I'm here to help calculate what you need on your final to get your desired grade in a class.\")\n",
    "name = input(\"What is your name?\")\n",
    "currentgrade = int(input(\"What is your current grade in your class?\"))\n",
    "percent = float(input(\"What percent of your grade is your final worth? Please input a decimal number.\"))\n",
    "desiredgrade = int(input(\"What is your desired final grade?\"))\n",
    "\n",
    "finalgrade = (desiredgrade - currentgrade*(1-percent))  / percent\n",
    "\n",
    "print(name, \", you're going to have to get a\", finalgrade, \"on your final to get a \", desiredgrade, \"in your class.\")\n"
   ]
  },
  {
   "cell_type": "code",
